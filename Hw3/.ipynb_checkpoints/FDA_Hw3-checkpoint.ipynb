{
 "cells": [
  {
   "cell_type": "code",
   "execution_count": 5,
   "metadata": {},
   "outputs": [
    {
     "name": "stderr",
     "output_type": "stream",
     "text": [
      "Using TensorFlow backend.\n"
     ]
    }
   ],
   "source": [
    "from keras import models, layers, optimizers, regularizers\n",
    "import matplotlib.pyplot as plt\n",
    "import pandas as pd\n",
    "import numpy as np\n",
    "\n",
    "from sklearn.metrics import accuracy_score\n",
    "\n",
    "#import warnings\n",
    "#warnings.filterwarnings('ignore')"
   ]
  },
  {
   "cell_type": "markdown",
   "metadata": {},
   "source": [
    "# Data Preprocessing"
   ]
  },
  {
   "cell_type": "code",
   "execution_count": 60,
   "metadata": {},
   "outputs": [],
   "source": [
    "train = pd.read_csv('stockTrainSet.csv')\n",
    "test = pd.read_csv('stockTestSet.csv')"
   ]
  },
  {
   "cell_type": "markdown",
   "metadata": {},
   "source": [
    "## Set target data\n",
    "Set target as \n",
    "\n",
    "1: if next day's close price is \"higher\" than today's close price\n",
    "\n",
    "0: if next day's close price is \"lower\" than today's close price"
   ]
  },
  {
   "cell_type": "code",
   "execution_count": 61,
   "metadata": {},
   "outputs": [],
   "source": [
    "def addTarget(df):\n",
    "    target = np.zeros(len(df))\n",
    "    for i in range(len(df)-1):\n",
    "        cur = df.iloc[i, 2]\n",
    "        nxt = df.iloc[i+1, 2]\n",
    "\n",
    "        if nxt >= cur:\n",
    "            target[i] = 1\n",
    "        else:\n",
    "            target[i] = 0\n",
    "\n",
    "    df['target'] = target"
   ]
  },
  {
   "cell_type": "code",
   "execution_count": 62,
   "metadata": {
    "scrolled": true
   },
   "outputs": [
    {
     "data": {
      "text/html": [
       "<div>\n",
       "<style scoped>\n",
       "    .dataframe tbody tr th:only-of-type {\n",
       "        vertical-align: middle;\n",
       "    }\n",
       "\n",
       "    .dataframe tbody tr th {\n",
       "        vertical-align: top;\n",
       "    }\n",
       "\n",
       "    .dataframe thead th {\n",
       "        text-align: right;\n",
       "    }\n",
       "</style>\n",
       "<table border=\"1\" class=\"dataframe\">\n",
       "  <thead>\n",
       "    <tr style=\"text-align: right;\">\n",
       "      <th></th>\n",
       "      <th>Open Price</th>\n",
       "      <th>Close Price</th>\n",
       "      <th>High Price</th>\n",
       "      <th>Low Price</th>\n",
       "      <th>Volume</th>\n",
       "      <th>target</th>\n",
       "    </tr>\n",
       "  </thead>\n",
       "  <tbody>\n",
       "    <tr>\n",
       "      <th>count</th>\n",
       "      <td>2264.000000</td>\n",
       "      <td>2264.000000</td>\n",
       "      <td>2264.000000</td>\n",
       "      <td>2264.000000</td>\n",
       "      <td>2.264000e+03</td>\n",
       "      <td>2264.000000</td>\n",
       "    </tr>\n",
       "    <tr>\n",
       "      <th>mean</th>\n",
       "      <td>1656.142686</td>\n",
       "      <td>1656.767562</td>\n",
       "      <td>1664.427054</td>\n",
       "      <td>1647.425128</td>\n",
       "      <td>2.948755e+09</td>\n",
       "      <td>0.547261</td>\n",
       "    </tr>\n",
       "    <tr>\n",
       "      <th>std</th>\n",
       "      <td>485.292193</td>\n",
       "      <td>485.226120</td>\n",
       "      <td>484.808706</td>\n",
       "      <td>485.576116</td>\n",
       "      <td>1.351675e+09</td>\n",
       "      <td>0.497871</td>\n",
       "    </tr>\n",
       "    <tr>\n",
       "      <th>min</th>\n",
       "      <td>679.280000</td>\n",
       "      <td>676.530000</td>\n",
       "      <td>695.270000</td>\n",
       "      <td>666.790000</td>\n",
       "      <td>5.181584e+08</td>\n",
       "      <td>0.000000</td>\n",
       "    </tr>\n",
       "    <tr>\n",
       "      <th>25%</th>\n",
       "      <td>1238.602500</td>\n",
       "      <td>1239.337500</td>\n",
       "      <td>1246.695000</td>\n",
       "      <td>1227.587500</td>\n",
       "      <td>2.048980e+09</td>\n",
       "      <td>0.000000</td>\n",
       "    </tr>\n",
       "    <tr>\n",
       "      <th>50%</th>\n",
       "      <td>1649.135000</td>\n",
       "      <td>1650.405000</td>\n",
       "      <td>1656.145000</td>\n",
       "      <td>1639.600000</td>\n",
       "      <td>2.506637e+09</td>\n",
       "      <td>1.000000</td>\n",
       "    </tr>\n",
       "    <tr>\n",
       "      <th>75%</th>\n",
       "      <td>2070.300000</td>\n",
       "      <td>2071.190000</td>\n",
       "      <td>2079.507500</td>\n",
       "      <td>2058.757500</td>\n",
       "      <td>3.373334e+09</td>\n",
       "      <td>1.000000</td>\n",
       "    </tr>\n",
       "    <tr>\n",
       "      <th>max</th>\n",
       "      <td>2692.710000</td>\n",
       "      <td>2690.160000</td>\n",
       "      <td>2694.970000</td>\n",
       "      <td>2685.920000</td>\n",
       "      <td>9.120100e+09</td>\n",
       "      <td>1.000000</td>\n",
       "    </tr>\n",
       "  </tbody>\n",
       "</table>\n",
       "</div>"
      ],
      "text/plain": [
       "        Open Price  Close Price   High Price    Low Price        Volume  \\\n",
       "count  2264.000000  2264.000000  2264.000000  2264.000000  2.264000e+03   \n",
       "mean   1656.142686  1656.767562  1664.427054  1647.425128  2.948755e+09   \n",
       "std     485.292193   485.226120   484.808706   485.576116  1.351675e+09   \n",
       "min     679.280000   676.530000   695.270000   666.790000  5.181584e+08   \n",
       "25%    1238.602500  1239.337500  1246.695000  1227.587500  2.048980e+09   \n",
       "50%    1649.135000  1650.405000  1656.145000  1639.600000  2.506637e+09   \n",
       "75%    2070.300000  2071.190000  2079.507500  2058.757500  3.373334e+09   \n",
       "max    2692.710000  2690.160000  2694.970000  2685.920000  9.120100e+09   \n",
       "\n",
       "            target  \n",
       "count  2264.000000  \n",
       "mean      0.547261  \n",
       "std       0.497871  \n",
       "min       0.000000  \n",
       "25%       0.000000  \n",
       "50%       1.000000  \n",
       "75%       1.000000  \n",
       "max       1.000000  "
      ]
     },
     "execution_count": 62,
     "metadata": {},
     "output_type": "execute_result"
    }
   ],
   "source": [
    "addTarget(train)\n",
    "addTarget(test)\n",
    "\n",
    "train.describe()"
   ]
  },
  {
   "cell_type": "markdown",
   "metadata": {},
   "source": [
    "## Feature Selection\n",
    "- Open Price\n",
    "- Close Price\t\n",
    "- High Price\t\n",
    "- Low Price\n",
    "- Volume\n"
   ]
  },
  {
   "cell_type": "code",
   "execution_count": 63,
   "metadata": {},
   "outputs": [],
   "source": [
    "train_x = train.drop(columns=[\"Date\", \"target\"])\n",
    "train_y = train[\"target\"]\n",
    "#train_y = np.array(train_y, dtype=int)\n",
    "\n",
    "test_x = test.drop(columns=[\"Date\", \"target\"])\n",
    "test_y = test[\"target\"]\n",
    "#test_y = np.array(test_y, dtype=int)"
   ]
  },
  {
   "cell_type": "markdown",
   "metadata": {},
   "source": [
    "## Normalization\n",
    "Since different features may use different scales, normalization can help learning algorithms be more effective"
   ]
  },
  {
   "cell_type": "code",
   "execution_count": 64,
   "metadata": {
    "scrolled": true
   },
   "outputs": [
    {
     "name": "stderr",
     "output_type": "stream",
     "text": [
      "/Library/Frameworks/Python.framework/Versions/3.7/lib/python3.7/site-packages/sklearn/preprocessing/data.py:645: DataConversionWarning: Data with input dtype int64, float64 were all converted to float64 by StandardScaler.\n",
      "  return self.partial_fit(X, y)\n",
      "/Library/Frameworks/Python.framework/Versions/3.7/lib/python3.7/site-packages/ipykernel_launcher.py:6: DataConversionWarning: Data with input dtype int64, float64 were all converted to float64 by StandardScaler.\n",
      "  \n",
      "/Library/Frameworks/Python.framework/Versions/3.7/lib/python3.7/site-packages/ipykernel_launcher.py:7: DataConversionWarning: Data with input dtype int64, float64 were all converted to float64 by StandardScaler.\n",
      "  import sys\n"
     ]
    }
   ],
   "source": [
    "from sklearn.preprocessing import StandardScaler\n",
    "\n",
    "scaler = StandardScaler()\n",
    "scaler.fit(train_x)\n",
    "\n",
    "train_x_std = scaler.transform(train_x)\n",
    "test_x_std = scaler.transform(test_x)"
   ]
  },
  {
   "cell_type": "markdown",
   "metadata": {},
   "source": [
    "# Logistic Regression"
   ]
  },
  {
   "cell_type": "code",
   "execution_count": 65,
   "metadata": {},
   "outputs": [
    {
     "name": "stderr",
     "output_type": "stream",
     "text": [
      "/Library/Frameworks/Python.framework/Versions/3.7/lib/python3.7/site-packages/sklearn/linear_model/logistic.py:433: FutureWarning: Default solver will be changed to 'lbfgs' in 0.22. Specify a solver to silence this warning.\n",
      "  FutureWarning)\n"
     ]
    }
   ],
   "source": [
    "from sklearn.linear_model import LogisticRegression\n",
    "\n",
    "lr_model = LogisticRegression()\n",
    "_ = lr_model.fit(train_x_std, train_y)"
   ]
  },
  {
   "cell_type": "markdown",
   "metadata": {},
   "source": [
    "The accuracy rate is very low."
   ]
  },
  {
   "cell_type": "code",
   "execution_count": 66,
   "metadata": {},
   "outputs": [
    {
     "name": "stdout",
     "output_type": "stream",
     "text": [
      "0.5238095238095238\n"
     ]
    }
   ],
   "source": [
    "lr_predict = lr_model.predict(test_x_std)\n",
    "print(accuracy_score(test_y, lr_predict))"
   ]
  },
  {
   "cell_type": "markdown",
   "metadata": {},
   "source": [
    "## Improve my classifier <a class=\"tocSkip\">\n",
    "\n",
    "## SGD Classifier\n",
    "When given the parameter loss=\"log\", SGD Classifier is a\n",
    "incrementally trained logistic regression."
   ]
  },
  {
   "cell_type": "code",
   "execution_count": 67,
   "metadata": {},
   "outputs": [],
   "source": [
    "from sklearn import linear_model\n",
    "\n",
    "SGDlr_model = linear_model.SGDClassifier(loss='log',\n",
    "                                         max_iter=1000,\n",
    "                                         tol=1e-3)\n",
    "_ = SGDlr_model.fit(train_x_std, train_y)"
   ]
  },
  {
   "cell_type": "markdown",
   "metadata": {},
   "source": [
    "The accuracy rate didn't change, it's still low"
   ]
  },
  {
   "cell_type": "code",
   "execution_count": 68,
   "metadata": {},
   "outputs": [
    {
     "name": "stdout",
     "output_type": "stream",
     "text": [
      "0.5238095238095238\n"
     ]
    }
   ],
   "source": [
    "SGDlr_predict = SGDlr_model.predict(test_x_std)\n",
    "print(accuracy_score(test_y, SGDlr_predict))"
   ]
  },
  {
   "cell_type": "markdown",
   "metadata": {},
   "source": [
    "# SVM(Support Vector Machine)"
   ]
  },
  {
   "cell_type": "code",
   "execution_count": 69,
   "metadata": {},
   "outputs": [],
   "source": [
    "from sklearn.svm import SVC\n",
    "\n",
    "svm_model = SVC()\n",
    "_ = svm_model.fit(train_x_std, train_y)"
   ]
  },
  {
   "cell_type": "markdown",
   "metadata": {},
   "source": [
    "The accuracy is also very low."
   ]
  },
  {
   "cell_type": "code",
   "execution_count": 70,
   "metadata": {
    "scrolled": false
   },
   "outputs": [
    {
     "name": "stdout",
     "output_type": "stream",
     "text": [
      "0.5238095238095238\n"
     ]
    }
   ],
   "source": [
    "svm_predict = svm_model.predict(test_x_std)\n",
    "print(accuracy_score(test_y, svm_predict))"
   ]
  },
  {
   "cell_type": "markdown",
   "metadata": {},
   "source": [
    "## Improve my classifier <a class=\"tocSkip\">\n",
    "## Change kernel to sigmoid\n",
    "The result didn't change, it's still 0.5238"
   ]
  },
  {
   "cell_type": "code",
   "execution_count": 71,
   "metadata": {},
   "outputs": [
    {
     "name": "stdout",
     "output_type": "stream",
     "text": [
      "0.5238095238095238\n"
     ]
    }
   ],
   "source": [
    "svm_model = SVC(kernel=\"sigmoid\")\n",
    "_ = svm_model.fit(train_x_std, train_y)\n",
    "\n",
    "svm_predict = svm_model.predict(test_x_std)\n",
    "print(accuracy_score(test_y, svm_predict))"
   ]
  },
  {
   "cell_type": "markdown",
   "metadata": {},
   "source": [
    "## Change kernel to poly\n",
    "The result is still same"
   ]
  },
  {
   "cell_type": "code",
   "execution_count": 72,
   "metadata": {},
   "outputs": [
    {
     "name": "stdout",
     "output_type": "stream",
     "text": [
      "0.5238095238095238\n"
     ]
    }
   ],
   "source": [
    "svm_model = SVC(kernel=\"poly\")\n",
    "_ = svm_model.fit(train_x_std, train_y)\n",
    "\n",
    "svm_predict = svm_model.predict(test_x_std)\n",
    "print(accuracy_score(test_y, svm_predict))"
   ]
  },
  {
   "cell_type": "markdown",
   "metadata": {},
   "source": [
    "## Change degree to 4\n",
    "The result is still same"
   ]
  },
  {
   "cell_type": "code",
   "execution_count": 73,
   "metadata": {},
   "outputs": [
    {
     "name": "stdout",
     "output_type": "stream",
     "text": [
      "0.5238095238095238\n"
     ]
    }
   ],
   "source": [
    "svm_model = SVC(kernel=\"poly\", degree=4)\n",
    "_ = svm_model.fit(train_x_std, train_y)\n",
    "\n",
    "svm_predict = svm_model.predict(test_x_std)\n",
    "print(accuracy_score(test_y, svm_predict))"
   ]
  },
  {
   "cell_type": "markdown",
   "metadata": {},
   "source": [
    "# Neural Network\n",
    "Construct a neueal network without any hidden layer, and choose relu as activation function"
   ]
  },
  {
   "cell_type": "code",
   "execution_count": 74,
   "metadata": {},
   "outputs": [],
   "source": [
    "model = models.Sequential()\n",
    "model.add(layers.Dense(units=1,\n",
    "                       input_dim=train_x.shape[1], \n",
    "                       activation='relu'))"
   ]
  },
  {
   "cell_type": "code",
   "execution_count": 75,
   "metadata": {
    "scrolled": true
   },
   "outputs": [
    {
     "name": "stdout",
     "output_type": "stream",
     "text": [
      "_________________________________________________________________\n",
      "Layer (type)                 Output Shape              Param #   \n",
      "=================================================================\n",
      "dense_6 (Dense)              (None, 1)                 6         \n",
      "=================================================================\n",
      "Total params: 6\n",
      "Trainable params: 6\n",
      "Non-trainable params: 0\n",
      "_________________________________________________________________\n"
     ]
    }
   ],
   "source": [
    "model.compile(loss='binary_crossentropy', \n",
    "              optimizer=optimizers.Adam(lr=0.01),\n",
    "              metrics=['accuracy'])\n",
    "model.summary()"
   ]
  },
  {
   "cell_type": "code",
   "execution_count": 76,
   "metadata": {},
   "outputs": [
    {
     "name": "stdout",
     "output_type": "stream",
     "text": [
      "Epoch 1/10\n",
      "2264/2264 [==============================] - 0s 123us/step - loss: 5.5897 - acc: 0.4351\n",
      "Epoch 2/10\n",
      "2264/2264 [==============================] - 0s 24us/step - loss: 2.4199 - acc: 0.4589\n",
      "Epoch 3/10\n",
      "2264/2264 [==============================] - 0s 23us/step - loss: 0.8932 - acc: 0.5146\n",
      "Epoch 4/10\n",
      "2264/2264 [==============================] - 0s 22us/step - loss: 0.6930 - acc: 0.5340\n",
      "Epoch 5/10\n",
      "2264/2264 [==============================] - 0s 27us/step - loss: 0.6891 - acc: 0.5459\n",
      "Epoch 6/10\n",
      "2264/2264 [==============================] - 0s 25us/step - loss: 0.6882 - acc: 0.5411\n",
      "Epoch 7/10\n",
      "2264/2264 [==============================] - 0s 24us/step - loss: 0.6892 - acc: 0.5495\n",
      "Epoch 8/10\n",
      "2264/2264 [==============================] - 0s 23us/step - loss: 0.6892 - acc: 0.5437\n",
      "Epoch 9/10\n",
      "2264/2264 [==============================] - 0s 24us/step - loss: 0.6896 - acc: 0.5442\n",
      "Epoch 10/10\n",
      "2264/2264 [==============================] - 0s 27us/step - loss: 0.6897 - acc: 0.5442\n"
     ]
    }
   ],
   "source": [
    "from sklearn.utils import class_weight\n",
    "class_weight = class_weight.compute_class_weight('balanced'\n",
    "                                               ,np.unique(train_y)\n",
    "                                               ,train_y)\n",
    "\n",
    "history = model.fit(train_x_std, \n",
    "                    train_y, \n",
    "                    epochs=10,\n",
    "                    batch_size=32,\n",
    "                    class_weight=class_weight)"
   ]
  },
  {
   "cell_type": "code",
   "execution_count": 77,
   "metadata": {},
   "outputs": [
    {
     "name": "stdout",
     "output_type": "stream",
     "text": [
      "2264/2264 [==============================] - 0s 42us/step\n",
      "252/252 [==============================] - 0s 15us/step\n",
      "Training accuracy: 0.5490282687618538\n",
      "Testing accuracy: 0.5198412684221116\n"
     ]
    },
    {
     "data": {
      "image/png": "[encoded data removed]",
      "text/plain": [
       "<Figure size 432x288 with 1 Axes>"
      ]
     },
     "metadata": {
      "needs_background": "light"
     },
     "output_type": "display_data"
    }
   ],
   "source": [
    "train_acc = model.evaluate(train_x_std, train_y, batch_size=32)[1]\n",
    "test_acc = model.evaluate(test_x_std, test_y, batch_size=32)[1]\n",
    "\n",
    "print('Training accuracy: %s' % train_acc)\n",
    "print('Testing accuracy: %s' % test_acc)\n",
    "\n",
    "losses = history.history['loss']\n",
    "plt.plot(range(len(losses)), losses, 'r')\n",
    "plt.show()"
   ]
  },
  {
   "cell_type": "code",
   "execution_count": 78,
   "metadata": {
    "scrolled": true
   },
   "outputs": [
    {
     "name": "stdout",
     "output_type": "stream",
     "text": [
      "0.5198412698412699\n"
     ]
    }
   ],
   "source": [
    "nn_pred = model.predict_classes(test_x_std)\n",
    "print(accuracy_score(test_y, nn_pred))"
   ]
  },
  {
   "cell_type": "markdown",
   "metadata": {},
   "source": [
    "## Improve my classifier <a class=\"tocSkip\">\n",
    "## Add two hidden layers"
   ]
  },
  {
   "cell_type": "code",
   "execution_count": 83,
   "metadata": {},
   "outputs": [
    {
     "name": "stdout",
     "output_type": "stream",
     "text": [
      "_________________________________________________________________\n",
      "Layer (type)                 Output Shape              Param #   \n",
      "=================================================================\n",
      "dense_10 (Dense)             (None, 10)                60        \n",
      "_________________________________________________________________\n",
      "dense_11 (Dense)             (None, 20)                220       \n",
      "_________________________________________________________________\n",
      "dense_12 (Dense)             (None, 1)                 21        \n",
      "=================================================================\n",
      "Total params: 301\n",
      "Trainable params: 301\n",
      "Non-trainable params: 0\n",
      "_________________________________________________________________\n"
     ]
    }
   ],
   "source": [
    "model = models.Sequential()\n",
    "model.add(layers.Dense(units=10,\n",
    "                       input_dim=train_x.shape[1], \n",
    "                       activation='relu'))\n",
    "\n",
    "model.add(layers.Dense(units=20,\n",
    "                       activation='relu'))\n",
    "\n",
    "model.add(layers.Dense(units=1,\n",
    "                       activation='sigmoid'))\n",
    "\n",
    "\n",
    "model.compile(loss='binary_crossentropy', \n",
    "              optimizer=optimizers.Adam(lr=0.01),\n",
    "              metrics=['accuracy'])\n",
    "model.summary()"
   ]
  },
  {
   "cell_type": "code",
   "execution_count": 84,
   "metadata": {},
   "outputs": [
    {
     "name": "stdout",
     "output_type": "stream",
     "text": [
      "Epoch 1/10\n",
      "2264/2264 [==============================] - 0s 195us/step - loss: 0.6951 - acc: 0.5322\n",
      "Epoch 2/10\n",
      "2264/2264 [==============================] - 0s 35us/step - loss: 0.6921 - acc: 0.5398\n",
      "Epoch 3/10\n",
      "2264/2264 [==============================] - 0s 40us/step - loss: 0.6906 - acc: 0.5459\n",
      "Epoch 4/10\n",
      "2264/2264 [==============================] - 0s 37us/step - loss: 0.6901 - acc: 0.5468\n",
      "Epoch 5/10\n",
      "2264/2264 [==============================] - 0s 36us/step - loss: 0.6897 - acc: 0.5477\n",
      "Epoch 6/10\n",
      "2264/2264 [==============================] - 0s 41us/step - loss: 0.6901 - acc: 0.5433\n",
      "Epoch 7/10\n",
      "2264/2264 [==============================] - 0s 38us/step - loss: 0.6902 - acc: 0.5473\n",
      "Epoch 8/10\n",
      "2264/2264 [==============================] - 0s 32us/step - loss: 0.6890 - acc: 0.5473\n",
      "Epoch 9/10\n",
      "2264/2264 [==============================] - 0s 32us/step - loss: 0.6890 - acc: 0.5442\n",
      "Epoch 10/10\n",
      "2264/2264 [==============================] - 0s 32us/step - loss: 0.6890 - acc: 0.5406\n",
      "2264/2264 [==============================] - 0s 62us/step\n",
      "252/252 [==============================] - 0s 17us/step\n",
      "Training accuracy: 0.5472614842042485\n",
      "Testing accuracy: 0.5238095223903656\n"
     ]
    },
    {
     "data": {
      "image/png": "[encoded data removed]",
      "text/plain": [
       "<Figure size 432x288 with 1 Axes>"
      ]
     },
     "metadata": {
      "needs_background": "light"
     },
     "output_type": "display_data"
    }
   ],
   "source": [
    "history = model.fit(train_x_std, \n",
    "                    train_y, \n",
    "                    epochs=10,\n",
    "                    batch_size=32,\n",
    "                    class_weight=class_weight)\n",
    "\n",
    "train_acc = model.evaluate(train_x_std, train_y, batch_size=32)[1]\n",
    "test_acc = model.evaluate(test_x_std, test_y, batch_size=32)[1]\n",
    "\n",
    "print('Training accuracy: %s' % train_acc)\n",
    "print('Testing accuracy: %s' % test_acc)\n",
    "\n",
    "losses = history.history['loss']\n",
    "plt.plot(range(len(losses)), losses, 'r')\n",
    "plt.show()"
   ]
  },
  {
   "cell_type": "code",
   "execution_count": 88,
   "metadata": {},
   "outputs": [
    {
     "name": "stdout",
     "output_type": "stream",
     "text": [
      "0.5238095238095238\n"
     ]
    }
   ],
   "source": [
    "nn_pred = model.predict_classes(test_x_std)\n",
    "print(accuracy_score(test_y, nn_pred))"
   ]
  },
  {
   "cell_type": "markdown",
   "metadata": {},
   "source": [
    "# Disscussion\n",
    "\n",
    "Logistic Regression, SVM, and NN give the similiar accuracy rate, around 0.52, which is very low.\n",
    "\n",
    "From my perspective, there are too many factors that affect rise and fall of stock price, such as internal developments within companies, impact of world events, inflation and interest rates. It's too complicated that nobody could precisely predict stock price. \n",
    "\n",
    "Needless to say that from the few features given in this task, it's impossible to predict. And so that no matter which model I use or how I tried to imporve it, the result is similiar.\n",
    "\n",
    "What's more, if I could predict stock price precisely, I will not be writing FDA homework here now lol"
   ]
  },
  {
   "cell_type": "markdown",
   "metadata": {},
   "source": [
    "# Another Data set\n",
    "\n",
    "### I choose [Titanic Dataset](https://www.kaggle.com/c/titanic/data)  <a class=\"tocSkip\">\n",
    "    \n",
    "    \n",
    "### Data Preprocessing\n",
    "map sex to 1 and 0\n",
    "\n",
    "fill the missing data in age"
   ]
  },
  {
   "cell_type": "code",
   "execution_count": 100,
   "metadata": {},
   "outputs": [],
   "source": [
    "df = pd.read_csv('titanicTrainSet.csv')\n",
    "df = df.drop(['PassengerId','Name', 'Ticket', 'Cabin', 'Embarked','Fare'], axis = 1)\n",
    "\n",
    "age = df['Age']\n",
    "avgage = age.sum(axis = 0, skipna = True) /age.count()\n",
    "df['Age'].fillna(avgage, inplace = True)\n",
    "\n",
    "sex_map = {'male' : 0, 'female' :1}\n",
    "df['Sex'] = df['Sex'].map(sex_map)"
   ]
  },
  {
   "cell_type": "code",
   "execution_count": 101,
   "metadata": {},
   "outputs": [],
   "source": [
    "train_x = df[:700].drop('Survived', 1)\n",
    "train_y = df['Survived'][:700]\n",
    "\n",
    "test_x = df[700:].drop('Survived', 1)\n",
    "test_y = df['Survived'][700:]"
   ]
  },
  {
   "cell_type": "markdown",
   "metadata": {},
   "source": [
    "### normalization"
   ]
  },
  {
   "cell_type": "code",
   "execution_count": 102,
   "metadata": {},
   "outputs": [
    {
     "name": "stderr",
     "output_type": "stream",
     "text": [
      "/Library/Frameworks/Python.framework/Versions/3.7/lib/python3.7/site-packages/sklearn/preprocessing/data.py:645: DataConversionWarning: Data with input dtype int64, float64 were all converted to float64 by StandardScaler.\n",
      "  return self.partial_fit(X, y)\n",
      "/Library/Frameworks/Python.framework/Versions/3.7/lib/python3.7/site-packages/ipykernel_launcher.py:4: DataConversionWarning: Data with input dtype int64, float64 were all converted to float64 by StandardScaler.\n",
      "  after removing the cwd from sys.path.\n",
      "/Library/Frameworks/Python.framework/Versions/3.7/lib/python3.7/site-packages/ipykernel_launcher.py:5: DataConversionWarning: Data with input dtype int64, float64 were all converted to float64 by StandardScaler.\n",
      "  \"\"\"\n"
     ]
    }
   ],
   "source": [
    "scaler = StandardScaler()\n",
    "scaler.fit(train_x)\n",
    "\n",
    "train_x_std = scaler.transform(train_x)\n",
    "test_x_std = scaler.transform(test_x)"
   ]
  },
  {
   "cell_type": "markdown",
   "metadata": {},
   "source": [
    "## Logistic Regression"
   ]
  },
  {
   "cell_type": "code",
   "execution_count": 131,
   "metadata": {},
   "outputs": [
    {
     "name": "stderr",
     "output_type": "stream",
     "text": [
      "/Library/Frameworks/Python.framework/Versions/3.7/lib/python3.7/site-packages/sklearn/linear_model/logistic.py:433: FutureWarning: Default solver will be changed to 'lbfgs' in 0.22. Specify a solver to silence this warning.\n",
      "  FutureWarning)\n"
     ]
    }
   ],
   "source": [
    "lr_model = LogisticRegression()\n",
    "_ = lr_model.fit(train_x_std, train_y)"
   ]
  },
  {
   "cell_type": "code",
   "execution_count": 132,
   "metadata": {},
   "outputs": [
    {
     "name": "stdout",
     "output_type": "stream",
     "text": [
      "0.806282722513089\n"
     ]
    }
   ],
   "source": [
    "lr_predict = lr_model.predict(test_x_std)\n",
    "print(accuracy_score(test_y, lr_predict))"
   ]
  },
  {
   "cell_type": "markdown",
   "metadata": {},
   "source": [
    "## SVM"
   ]
  },
  {
   "cell_type": "code",
   "execution_count": 136,
   "metadata": {},
   "outputs": [],
   "source": [
    "svm_model = SVC(kernel='poly')\n",
    "_ = svm_model.fit(train_x_std, train_y)"
   ]
  },
  {
   "cell_type": "code",
   "execution_count": 137,
   "metadata": {},
   "outputs": [
    {
     "name": "stdout",
     "output_type": "stream",
     "text": [
      "0.8167539267015707\n"
     ]
    }
   ],
   "source": [
    "svm_predict = svm_model.predict(test_x_std)\n",
    "print(accuracy_score(test_y, svm_predict))"
   ]
  },
  {
   "cell_type": "markdown",
   "metadata": {},
   "source": [
    "## Neural Network"
   ]
  },
  {
   "cell_type": "code",
   "execution_count": 117,
   "metadata": {},
   "outputs": [],
   "source": [
    "model = models.Sequential()\n",
    "model.add(layers.Dense(units=10,\n",
    "                       input_dim=train_x.shape[1], \n",
    "                       activation='relu'))\n",
    "\n",
    "model.add(layers.Dense(units=10, \n",
    "                       activation='relu'))\n",
    "\n",
    "model.add(layers.Dense(units=1, \n",
    "                       activation='sigmoid'))"
   ]
  },
  {
   "cell_type": "code",
   "execution_count": 118,
   "metadata": {},
   "outputs": [
    {
     "name": "stdout",
     "output_type": "stream",
     "text": [
      "_________________________________________________________________\n",
      "Layer (type)                 Output Shape              Param #   \n",
      "=================================================================\n",
      "dense_22 (Dense)             (None, 10)                60        \n",
      "_________________________________________________________________\n",
      "dense_23 (Dense)             (None, 10)                110       \n",
      "_________________________________________________________________\n",
      "dense_24 (Dense)             (None, 1)                 11        \n",
      "=================================================================\n",
      "Total params: 181\n",
      "Trainable params: 181\n",
      "Non-trainable params: 0\n",
      "_________________________________________________________________\n"
     ]
    }
   ],
   "source": [
    "sgd = optimizers.SGD(lr=0.01, decay=1e-6, momentum=0.9, nesterov=True)\n",
    "model.compile(loss='binary_crossentropy', optimizer=sgd, metrics=['accuracy'])\n",
    "model.summary()"
   ]
  },
  {
   "cell_type": "code",
   "execution_count": 125,
   "metadata": {},
   "outputs": [
    {
     "name": "stdout",
     "output_type": "stream",
     "text": [
      "Epoch 1/10\n",
      "700/700 [==============================] - 0s 38us/step - loss: 0.4245 - acc: 0.8143\n",
      "Epoch 2/10\n",
      "700/700 [==============================] - 0s 41us/step - loss: 0.4231 - acc: 0.8214\n",
      "Epoch 3/10\n",
      "700/700 [==============================] - 0s 41us/step - loss: 0.4243 - acc: 0.8186\n",
      "Epoch 4/10\n",
      "700/700 [==============================] - 0s 48us/step - loss: 0.4226 - acc: 0.8200\n",
      "Epoch 5/10\n",
      "700/700 [==============================] - 0s 46us/step - loss: 0.4221 - acc: 0.8171\n",
      "Epoch 6/10\n",
      "700/700 [==============================] - 0s 44us/step - loss: 0.4220 - acc: 0.8186\n",
      "Epoch 7/10\n",
      "700/700 [==============================] - 0s 40us/step - loss: 0.4235 - acc: 0.8186\n",
      "Epoch 8/10\n",
      "700/700 [==============================] - 0s 36us/step - loss: 0.4224 - acc: 0.8143\n",
      "Epoch 9/10\n",
      "700/700 [==============================] - 0s 39us/step - loss: 0.4214 - acc: 0.8214\n",
      "Epoch 10/10\n",
      "700/700 [==============================] - 0s 42us/step - loss: 0.4218 - acc: 0.8171\n",
      "700/700 [==============================] - 0s 19us/step\n",
      "191/191 [==============================] - 0s 30us/step\n",
      "Training accuracy: 0.8214285707473755\n",
      "Testing accuracy: 0.8586387437675636\n"
     ]
    },
    {
     "data": {
      "image/png": "[encoded data removed]",
      "text/plain": [
       "<Figure size 432x288 with 1 Axes>"
      ]
     },
     "metadata": {
      "needs_background": "light"
     },
     "output_type": "display_data"
    }
   ],
   "source": [
    "history = model.fit(train_x_std, \n",
    "                    train_y, \n",
    "                    epochs=10,\n",
    "                    batch_size=32,\n",
    "                    class_weight=class_weight)\n",
    "\n",
    "train_acc = model.evaluate(train_x_std, train_y, batch_size=32)[1]\n",
    "test_acc = model.evaluate(test_x_std, test_y, batch_size=32)[1]\n",
    "\n",
    "print('Training accuracy: %s' % train_acc)\n",
    "print('Testing accuracy: %s' % test_acc)\n",
    "\n",
    "losses = history.history['loss']\n",
    "plt.plot(range(len(losses)), losses, 'r')\n",
    "plt.show()"
   ]
  },
  {
   "cell_type": "code",
   "execution_count": 126,
   "metadata": {
    "scrolled": true
   },
   "outputs": [
    {
     "name": "stdout",
     "output_type": "stream",
     "text": [
      "0.8586387434554974\n"
     ]
    }
   ],
   "source": [
    "nn_pred = model.predict_classes(test_x_std)\n",
    "print(accuracy_score(test_y, nn_pred))"
   ]
  },
  {
   "cell_type": "markdown",
   "metadata": {},
   "source": [
    "## Discussion\n",
    "\n",
    "### Compare with predicting stock price\n",
    "In this data set, the accuracy rate is mush higher than predicting stock price in every model I used. From my perspective, the features in titanic affects more to the result, so it's better.\n",
    "\n",
    "\n",
    "### Accuracy rate \n",
    "1. NN 0.8586387434554974\n",
    "2. SVM 0.8167539267015707\n",
    "3. Logistic Regression 0.806282722513089\n",
    "\n",
    "NN's accuracy rate is the highest since it has most parameter among other models to ajust, so that it can fit better."
   ]
  },
  {
   "cell_type": "code",
   "execution_count": null,
   "metadata": {},
   "outputs": [],
   "source": []
  }
 ],
 "metadata": {
  "kernelspec": {
   "display_name": "Python 3",
   "language": "python",
   "name": "python3"
  },
  "toc": {
   "base_numbering": "0",
   "nav_menu": {},
   "number_sections": true,
   "sideBar": true,
   "skip_h1_title": false,
   "title_cell": "Table of Contents",
   "title_sidebar": "Contents",
   "toc_cell": false,
   "toc_position": {
    "height": "calc(100% - 180px)",
    "left": "10px",
    "top": "150px",
    "width": "168px"
   },
   "toc_section_display": true,
   "toc_window_display": true
  }
 },
 "nbformat": 4,
 "nbformat_minor": 2
}
